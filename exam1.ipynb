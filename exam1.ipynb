{
  "nbformat": 4,
  "nbformat_minor": 0,
  "metadata": {
    "colab": {
      "provenance": [],
      "authorship_tag": "ABX9TyPIzpQ31XEgFwlKvb/fkFoo",
      "include_colab_link": true
    },
    "kernelspec": {
      "name": "python3",
      "display_name": "Python 3"
    },
    "language_info": {
      "name": "python"
    }
  },
  "cells": [
    {
      "cell_type": "markdown",
      "metadata": {
        "id": "view-in-github",
        "colab_type": "text"
      },
      "source": [
        "<a href=\"https://colab.research.google.com/github/chl-eo/CCDATRCL_EXAM_COM222/blob/main/exam1.ipynb\" target=\"_parent\"><img src=\"https://colab.research.google.com/assets/colab-badge.svg\" alt=\"Open In Colab\"/></a>"
      ]
    },
    {
      "cell_type": "code",
      "execution_count": 300,
      "metadata": {
        "colab": {
          "base_uri": "https://localhost:8080/"
        },
        "id": "MazPPmEt2xK-",
        "outputId": "44d37133-45be-4eba-ea8a-705cb94db1f5"
      },
      "outputs": [
        {
          "output_type": "stream",
          "name": "stdout",
          "text": [
            "Output: Between 1 and 6\n"
          ]
        }
      ],
      "source": [
        "#1 (linear search)\n",
        "def linearSearch(my_list, number):\n",
        "    index = 0\n",
        "    for i in my_list:\n",
        "        if my_list[index] == number:\n",
        "            return index\n",
        "        index = index + 1\n",
        "    return -1\n",
        "\n",
        "def findLargestIncrease(student_number):\n",
        "    largest_num = int()\n",
        "    first_num = -1\n",
        "    last_num = -1\n",
        "\n",
        "    for i in range(len(student_number) - 1):\n",
        "        largest_increase = student_number[i + 1] - student_number[i]\n",
        "\n",
        "        if largest_increase > largest_num:\n",
        "            largest_num = largest_increase\n",
        "            first_num = student_number[i]\n",
        "            last_num = student_number[i + 1]\n",
        "\n",
        "    lowest_value = linearSearch(student_number, first_num)\n",
        "    highest_value = linearSearch(student_number, last_num)\n",
        "\n",
        "    return f\"Between {lowest_value} and {highest_value}\"\n",
        "\n",
        "student_number = [2, 0, 2, 2, 1, 0, 6, 4, 6, 5]\n",
        "result = findLargestIncrease(student_number)\n",
        "print(\"Output:\", result)"
      ]
    },
    {
      "cell_type": "code",
      "source": [
        "#2 (linear search)\n",
        "def linearSearch(my_list, number):\n",
        "    index = 0\n",
        "    for i in my_list:\n",
        "        if my_list[index] == number:\n",
        "            return index\n",
        "        index = index + 1\n",
        "    return -1\n",
        "\n",
        "def findLargestDecrease(student_number):\n",
        "    largest_num = int()\n",
        "    first_num = -1\n",
        "    last_num = -1\n",
        "\n",
        "    for i in range(len(student_number) - 1):\n",
        "        largest_decrease = student_number[i - 1] - student_number[i]\n",
        "\n",
        "        if largest_decrease < largest_num:\n",
        "            largest_num = largest_decrease\n",
        "            first_num = student_number[i]\n",
        "            last_num = student_number[i + 1]\n",
        "\n",
        "    return f\"Between {first_num} and {last_num}\"\n",
        "\n",
        "student_number = [2, 0, 2, 2, 1, 0, 6, 4, 6, 5]\n",
        "result = findLargestDecrease(student_number)\n",
        "print(\"Output:\", result)"
      ],
      "metadata": {
        "colab": {
          "base_uri": "https://localhost:8080/"
        },
        "id": "tinRUv5MBJA9",
        "outputId": "c7dc69e1-4f47-4ae7-bd07-5e65a77cf8a1"
      },
      "execution_count": 301,
      "outputs": [
        {
          "output_type": "stream",
          "name": "stdout",
          "text": [
            "Output: Between 6 and 4\n"
          ]
        }
      ]
    },
    {
      "cell_type": "code",
      "source": [
        "#1 (linked list)\n",
        "class Node:\n",
        "    def __init__(self, data):\n",
        "        self.data = data\n",
        "        self.next = None\n",
        "\n",
        "class SinglyLinkedList:\n",
        "    def __init__(self):\n",
        "        self.head = None\n",
        "\n",
        "    def traverse(self, node):\n",
        "        print(\"[\", end=\"\")\n",
        "        while node:\n",
        "            student_number = str(node.data)\n",
        "            print(\",\".join(student_number), end=\"\")\n",
        "            node = node.next\n",
        "            print(\"]\")\n",
        "\n",
        "num_list = SinglyLinkedList()\n",
        "\n",
        "num_list.head = Node(2022106465)\n",
        "\n",
        "num_list.traverse(num_list.head)"
      ],
      "metadata": {
        "colab": {
          "base_uri": "https://localhost:8080/"
        },
        "id": "_zqEpx3LHKVT",
        "outputId": "69c523c0-4f5a-4181-eeb6-97ccc31d7af9"
      },
      "execution_count": 302,
      "outputs": [
        {
          "output_type": "stream",
          "name": "stdout",
          "text": [
            "[2,0,2,2,1,0,6,4,6,5]\n"
          ]
        }
      ]
    },
    {
      "cell_type": "code",
      "source": [
        "#2 (linked list)\n",
        "def is_prime(num):\n",
        "    if num < 2:\n",
        "        return False\n",
        "    for i in range(2, num):\n",
        "        if num % i == 0:\n",
        "            return False\n",
        "    return True\n",
        "\n",
        "def hasPrime(linked_list):\n",
        "    last_six_digits = \"\"\n",
        "    student_number = linked_list.head\n",
        "\n",
        "    while student_number:\n",
        "        last_six_digits += str(student_number.data)\n",
        "        student_number = student_number.next\n",
        "\n",
        "    last_six_digits = last_six_digits[-6:]\n",
        "\n",
        "    for num in last_six_digits:\n",
        "        if is_prime(int(num)):\n",
        "            return True\n",
        "\n",
        "    return False\n",
        "\n",
        "num_list = SinglyLinkedList()\n",
        "num_list.head = Node(2022106465)\n",
        "\n",
        "num_list.traverse(num_list.head)\n",
        "\n",
        "result = hasPrime(num_list)\n",
        "print(result)"
      ],
      "metadata": {
        "colab": {
          "base_uri": "https://localhost:8080/"
        },
        "id": "Nu5LpEs-K8va",
        "outputId": "6212d526-fba8-41ef-f23d-bb18e598e288"
      },
      "execution_count": 303,
      "outputs": [
        {
          "output_type": "stream",
          "name": "stdout",
          "text": [
            "[2,0,2,2,1,0,6,4,6,5]\n",
            "True\n"
          ]
        }
      ]
    },
    {
      "cell_type": "code",
      "source": [
        "#3 (linked list)\n",
        "class Node:\n",
        "    def __init__(self, data):\n",
        "        self.data = data\n",
        "        self.next = None\n",
        "\n",
        "class SinglyLinkedList:\n",
        "    def __init__(self):\n",
        "        self.head = None\n",
        "\n",
        "    def traverse(self):\n",
        "        current = self.head\n",
        "        while current:\n",
        "            print(current.data, end=\", \")\n",
        "            current = current.next\n",
        "        print(\"\")\n",
        "\n",
        "    def removeZeroes(self):\n",
        "        student_number = self.head\n",
        "        prev = None\n",
        "        has_zero = False\n",
        "\n",
        "        while student_number:\n",
        "            if student_number.data == 0:\n",
        "                has_zero = True\n",
        "                if prev is None:\n",
        "                    self.head = student_number.next\n",
        "                    student_number = student_number.next\n",
        "                else:\n",
        "                    prev.next = student_number.next\n",
        "                    student_number = student_number.next\n",
        "            else:\n",
        "                prev = student_number\n",
        "                student_number = student_number.next\n",
        "\n",
        "        if has_zero:\n",
        "            return self\n",
        "        else:\n",
        "            return \"no zeros found\"\n",
        "\n",
        "# Example Usage:\n",
        "num_list = SinglyLinkedList()\n",
        "num_list.head = Node(2)\n",
        "Node_studentNum1 = Node(0)\n",
        "Node_studentNum2 = Node(2)\n",
        "Node_studentNum3 = Node(2)\n",
        "Node_studentNum4 = Node(1)\n",
        "Node_studentNum5 = Node(0)\n",
        "Node_studentNum6 = Node(6)\n",
        "Node_studentNum7 = Node(4)\n",
        "Node_studentNum8 = Node(6)\n",
        "Node_studentNum9 = Node(5)\n",
        "\n",
        "num_list.head.next = Node_studentNum1\n",
        "Node_studentNum1.next = Node_studentNum2\n",
        "Node_studentNum2.next = Node_studentNum3\n",
        "Node_studentNum3.next = Node_studentNum4\n",
        "Node_studentNum4.next = Node_studentNum5\n",
        "Node_studentNum5.next = Node_studentNum6\n",
        "Node_studentNum6.next = Node_studentNum7\n",
        "Node_studentNum7.next = Node_studentNum8\n",
        "Node_studentNum8.next = Node_studentNum9\n",
        "\n",
        "result = num_list.removeZeroes()\n",
        "\n",
        "if isinstance(result, str):\n",
        "    print(result)\n",
        "else:\n",
        "    print(\"Student Number with Removed Zeros:\")\n",
        "    result.traverse()\n"
      ],
      "metadata": {
        "colab": {
          "base_uri": "https://localhost:8080/"
        },
        "id": "aZ9U7285pGL-",
        "outputId": "4b548d04-c253-4779-ac7a-b2e86560a2fb"
      },
      "execution_count": 304,
      "outputs": [
        {
          "output_type": "stream",
          "name": "stdout",
          "text": [
            "Student Number with Removed Zeros:\n",
            "2, 2, 2, 1, 6, 4, 6, 5, \n"
          ]
        }
      ]
    },
    {
      "cell_type": "code",
      "source": [
        "# (linked list)\n",
        "class Node:\n",
        "    def __init__(self, data):\n",
        "        self.data = data\n",
        "        self.next = None\n",
        "\n",
        "class SinglyLinkedList:\n",
        "    def __init__(self):\n",
        "        self.head = None\n",
        "\n",
        "    def traverse(self):\n",
        "        student_number = self.head\n",
        "        while student_number:\n",
        "             print(str(student_number.data)[:4] + '-' + str(student_number.data)[4:])\n",
        "             student_number = student_number.next\n",
        "\n",
        "num_list = SinglyLinkedList()\n",
        "num_list.head = Node(2022106465)\n",
        "\n",
        "print(\"Student Number:\")\n",
        "num_list.traverse()\n"
      ],
      "metadata": {
        "colab": {
          "base_uri": "https://localhost:8080/"
        },
        "id": "ThjZARdmPGr8",
        "outputId": "78e8441f-7feb-44ab-8e8f-e0c3baa90869"
      },
      "execution_count": 305,
      "outputs": [
        {
          "output_type": "stream",
          "name": "stdout",
          "text": [
            "Student Number:\n",
            "2022-106465\n"
          ]
        }
      ]
    },
    {
      "cell_type": "code",
      "source": [
        "#pre-defined code\n",
        "def create_stack():\n",
        "    stack = []\n",
        "    return stack\n",
        "\n",
        "def print_stack(stack):\n",
        "\n",
        "    if (check_empty(stack)):\n",
        "        return \"stack is empty\"\n",
        "\n",
        "    tempStack = stack.copy()\n",
        "    tempStack.reverse()\n",
        "\n",
        "    for i in tempStack:\n",
        "        print(i)\n",
        "\n",
        "    del tempStack\n",
        "\n",
        "def check_empty(stack):\n",
        "    return len(stack) == 0\n",
        "\n",
        "def push(stack, item):\n",
        "    stack.append(item)\n",
        "\n",
        "def pop(stack):\n",
        "    if (check_empty(stack)):\n",
        "        return \"stack is empty\"\n",
        "\n",
        "    return stack.pop()\n",
        "\n",
        "def peek(stack):\n",
        "    print(stack[-1])"
      ],
      "metadata": {
        "id": "7EEbr3ikki4C"
      },
      "execution_count": 306,
      "outputs": []
    },
    {
      "cell_type": "code",
      "source": [
        "#1 (stack)\n",
        "name_stack = ['C', 'H', 'L', 'E', 'O']\n",
        "num_stack = [2, 0, 2, 2, 1, 0, 6, 4, 6, 5]\n",
        "\n",
        "print(name_stack)\n",
        "print(num_stack)"
      ],
      "metadata": {
        "colab": {
          "base_uri": "https://localhost:8080/"
        },
        "id": "McnEQnt9p1Yl",
        "outputId": "ff982daa-7d74-49cf-806c-6961115b520a"
      },
      "execution_count": 307,
      "outputs": [
        {
          "output_type": "stream",
          "name": "stdout",
          "text": [
            "['C', 'H', 'L', 'E', 'O']\n",
            "[2, 0, 2, 2, 1, 0, 6, 4, 6, 5]\n"
          ]
        }
      ]
    },
    {
      "cell_type": "code",
      "source": [
        "#2 (stack)\n",
        "my_stack = create_stack()\n",
        "\n",
        "push(my_stack, str(1))\n",
        "first_name = 'C','H','L','E','O'\n",
        "for letter in first_name:\n",
        "  push(my_stack, letter)\n",
        "\n",
        "push(my_stack, str(5))\n",
        "print(my_stack)"
      ],
      "metadata": {
        "colab": {
          "base_uri": "https://localhost:8080/"
        },
        "id": "AjMF6slzqgxR",
        "outputId": "0e16a37d-d46e-4ae3-ea29-7c01b8e84292"
      },
      "execution_count": 308,
      "outputs": [
        {
          "output_type": "stream",
          "name": "stdout",
          "text": [
            "['1', 'C', 'H', 'L', 'E', 'O', '5']\n"
          ]
        }
      ]
    },
    {
      "cell_type": "code",
      "source": [
        "#3 (stack)\n",
        "def verifyStack(my_stack):\n",
        "\n",
        "    if str(my_stack[0]) != str(1):\n",
        "        return False\n",
        "\n",
        "    first_name = 'C', 'H', 'L', 'E', 'O'\n",
        "\n",
        "    \"\"\"[1:-1] is a slicing operation in python with the exception of\n",
        "    the first and last element.\n",
        "    We need this to verify if the first name match.\"\"\"\n",
        "\n",
        "    if my_stack[1:-1] != list(first_name):\n",
        "        return False\n",
        "\n",
        "    if str(my_stack[-1]) != str(5):\n",
        "        return False\n",
        "\n",
        "    return True\n",
        "\n",
        "my_stack = [1, 'C', 'H', 'L', 'E', 'O', 5]\n",
        "result_true = verifyStack(my_stack)\n",
        "print(result_true)  # True\n",
        "\n",
        "my_stack = [1, 'H', 'C', 'L', 'O', 'E', 7]\n",
        "result_false = verifyStack(my_stack)\n",
        "print(result_false)  # False\n"
      ],
      "metadata": {
        "colab": {
          "base_uri": "https://localhost:8080/"
        },
        "id": "cxpt3yIqwe1n",
        "outputId": "89c87c90-bfbb-4e2e-e3ec-30a8532ab595"
      },
      "execution_count": 309,
      "outputs": [
        {
          "output_type": "stream",
          "name": "stdout",
          "text": [
            "True\n",
            "False\n"
          ]
        }
      ]
    },
    {
      "cell_type": "code",
      "source": [
        "#pre-defined queue code\n",
        "class Queue:\n",
        "    def __init__(self):\n",
        "        self.queue = []\n",
        "\n",
        "    def enqueue(self, item):\n",
        "        self.queue.append(item)\n",
        "\n",
        "    def dequeue(self):\n",
        "        if len(self.queue) < 1:\n",
        "            return None\n",
        "        return self.queue.pop(0)\n",
        "\n",
        "    def display(self):\n",
        "        print(self.queue)\n",
        "\n",
        "    def size(self):\n",
        "        return len(self.queue)\n",
        "\n",
        "    def peek(self):\n",
        "        return self.queue[0]"
      ],
      "metadata": {
        "id": "18Xd3SPW4DT0"
      },
      "execution_count": 310,
      "outputs": []
    },
    {
      "cell_type": "code",
      "source": [
        "#1 (queue)\n",
        "student_number = [2,0,2,2,1,0,6,4,6,5]\n",
        "num_queue = Queue()\n",
        "\n",
        "for stud_num in student_number:\n",
        "    num_queue.enqueue(stud_num)\n",
        "\n",
        "num_queue.display()"
      ],
      "metadata": {
        "colab": {
          "base_uri": "https://localhost:8080/"
        },
        "id": "bmv-OWel8Z9P",
        "outputId": "3eb7b35e-1443-45ac-e873-02666499adb7"
      },
      "execution_count": 311,
      "outputs": [
        {
          "output_type": "stream",
          "name": "stdout",
          "text": [
            "[2, 0, 2, 2, 1, 0, 6, 4, 6, 5]\n"
          ]
        }
      ]
    },
    {
      "cell_type": "code",
      "source": [
        "#2 (queue)\n",
        "def getMax(num_queue):\n",
        "  if num_queue[-1] % 2 == 1:\n",
        "    max_num = num_queue[0]\n",
        "\n",
        "    for num in num_queue:\n",
        "      if num > max_num:\n",
        "        max_num = num\n",
        "\n",
        "        return max_num\n",
        "\n",
        "num_queue = (2,0,2,2,1,0,6,4,6,5)\n",
        "print('Largest Number:',getMax(num_queue))\n"
      ],
      "metadata": {
        "colab": {
          "base_uri": "https://localhost:8080/"
        },
        "id": "Vokl8rOY4WPB",
        "outputId": "03e35736-db1f-487c-8761-2ec1d619d679"
      },
      "execution_count": 312,
      "outputs": [
        {
          "output_type": "stream",
          "name": "stdout",
          "text": [
            "Largest Number: 6\n"
          ]
        }
      ]
    },
    {
      "cell_type": "code",
      "source": [
        "#3 (queue)\n",
        "def getOdd(self):\n",
        "    odd_numbers = [item for item in self.queue if item % 2 != 0]\n",
        "    return odd_numbers\n",
        "\n",
        "student_number = [2, 0, 2, 2, 1, 0, 6, 4, 6, 5]\n",
        "\n",
        "num_queue = Queue()\n",
        "\n",
        "for odd_num in student_number:\n",
        "    num_queue.enqueue(odd_num)\n",
        "\n",
        "getOdd(num_queue)\n",
        "print(\"Odd Numbers in my Student Number:\", odd_numbers)\n"
      ],
      "metadata": {
        "colab": {
          "base_uri": "https://localhost:8080/"
        },
        "id": "2EAG4oUhDYvn",
        "outputId": "dc8418d9-5d1c-48db-c2b5-b35c45ef6b39"
      },
      "execution_count": 313,
      "outputs": [
        {
          "output_type": "stream",
          "name": "stdout",
          "text": [
            "Odd Numbers in my Student Number: [1, 5]\n"
          ]
        }
      ]
    },
    {
      "cell_type": "code",
      "source": [
        "#4 (queue)\n",
        "class Queue:\n",
        "    def __init__(self):\n",
        "        self.queue = []\n",
        "\n",
        "    def enqueue(self, item):\n",
        "        self.queue.append(item)\n",
        "\n",
        "    def dequeue(self):\n",
        "        if len(self.queue) < 1:\n",
        "            return None\n",
        "        return self.queue.pop(0)\n",
        "\n",
        "    def display(self):\n",
        "        print(self.queue)\n",
        "\n",
        "    def size(self):\n",
        "        return len(self.queue)\n",
        "\n",
        "    def peek(self):\n",
        "        return self.queue[0]\n",
        "\n",
        "    def removeDup(self):\n",
        "        stud_id = list(set(self.queue))\n",
        "        self.queue = stud_id\n",
        "\n",
        "student_number = [2, 0, 2, 2, 1, 0, 6, 4, 6, 5]\n",
        "\n",
        "num_queue = Queue()\n",
        "\n",
        "for duplicates in student_number:\n",
        "    num_queue.enqueue(duplicates)\n",
        "\n",
        "num_queue.removeDup()\n",
        "\n",
        "print(\"Student ID Number with non-duplicated numbers:\")\n",
        "num_queue.display()\n"
      ],
      "metadata": {
        "colab": {
          "base_uri": "https://localhost:8080/"
        },
        "id": "QrmALltQMxMU",
        "outputId": "79c7c96e-ae2d-4793-aeec-1bcee139d19b"
      },
      "execution_count": 314,
      "outputs": [
        {
          "output_type": "stream",
          "name": "stdout",
          "text": [
            "Student ID Number with non-duplicated numbers:\n",
            "[0, 1, 2, 4, 5, 6]\n"
          ]
        }
      ]
    },
    {
      "cell_type": "code",
      "source": [
        "#1 (sort)\n",
        "student_number = [2, 0, 2, 2, 1, 0, 6, 4, 6, 5]\n",
        "\n",
        "last_six_digits = student_number[-6:]\n",
        "sorted_last_six_number = sorted(last_six_digits)\n",
        "sorted_student_number = student_number[:-6] + sorted_last_six_number\n",
        "\n",
        "print(\"Sorted Last six digit Student Number:\", sorted_student_number)"
      ],
      "metadata": {
        "colab": {
          "base_uri": "https://localhost:8080/"
        },
        "id": "3Ocy_AhKh4GW",
        "outputId": "7548a390-8478-4f84-c0b5-253f9e3a9d79"
      },
      "execution_count": 328,
      "outputs": [
        {
          "output_type": "stream",
          "name": "stdout",
          "text": [
            "Sorted Last six digit Student Number: [2, 0, 2, 2, 0, 1, 4, 5, 6, 6]\n"
          ]
        }
      ]
    },
    {
      "cell_type": "code",
      "source": [
        "#2 (sort)\n",
        "student_number = [2, 0, 2, 2, 1, 0, 6, 4, 6, 5]\n",
        "\n",
        "odd_num = [num for num in student_number if num % 2 != 0]\n",
        "even_num = [num for num in student_number if num % 2 == 0]\n",
        "\n",
        "sorted_even_numbers = sorted(even_num)\n",
        "sorted_odd_numbers = sorted(odd_num, reverse=True)\n",
        "sorted_student_number = sorted_even_numbers + sorted_odd_numbers\n",
        "\n",
        "print(\"Student Number:\", student_number)\n",
        "print(\"Even Number (INCREASING), Odd Numbers (DECREASING)\", sorted_student_number)"
      ],
      "metadata": {
        "colab": {
          "base_uri": "https://localhost:8080/"
        },
        "id": "mL4IJ2Cpibmd",
        "outputId": "3b10f2a4-ce4e-41db-dca3-fa9a1c1a84a2"
      },
      "execution_count": 332,
      "outputs": [
        {
          "output_type": "stream",
          "name": "stdout",
          "text": [
            "Student Number: [2, 0, 2, 2, 1, 0, 6, 4, 6, 5]\n",
            "Even Number (INCREASING), Odd Numbers (DECREASING) [0, 0, 2, 2, 2, 4, 6, 6, 5, 1]\n"
          ]
        }
      ]
    }
  ]
}